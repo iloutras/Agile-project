{
 "cells": [
  {
   "cell_type": "code",
   "execution_count": 1,
   "metadata": {
    "_cell_guid": "ccd94329-e5ea-4a79-bba5-2e381693ebdb",
    "_uuid": "d0def37a-1dc7-440c-8bfb-15e481b1c9d8",
    "execution": {
     "iopub.execute_input": "2023-10-20T23:25:05.290696Z",
     "iopub.status.busy": "2023-10-20T23:25:05.290261Z",
     "iopub.status.idle": "2023-10-20T23:25:08.306410Z",
     "shell.execute_reply": "2023-10-20T23:25:08.305510Z",
     "shell.execute_reply.started": "2023-10-20T23:25:05.290659Z"
    },
    "jupyter": {
     "outputs_hidden": false
    }
   },
   "outputs": [],
   "source": [
    "import pandas as pd\n",
    "import numpy as np\n",
    "import matplotlib.pyplot as plt\n",
    "import seaborn as sns\n",
    "from sklearn.model_selection import train_test_split\n",
    "from sklearn.linear_model import LinearRegression\n",
    "from sklearn.ensemble import RandomForestRegressor\n",
    "from sklearn.tree import DecisionTreeRegressor\n",
    "from sklearn.svm import SVR\n",
    "from sklearn.neighbors import KNeighborsRegressor\n",
    "from sklearn.metrics import mean_squared_error, r2_score"
   ]
  },
  {
   "cell_type": "markdown",
   "metadata": {
    "_cell_guid": "e56406a3-bb50-4ad8-86ce-ae598d3c0fd4",
    "_uuid": "594b290c-0498-4ace-8174-c9210ac981ce"
   },
   "source": [
    "# EDA"
   ]
  },
  {
   "cell_type": "code",
   "execution_count": 2,
   "metadata": {
    "_cell_guid": "37a16d20-17b5-4ba5-9fd0-82e0d6e2c54e",
    "_uuid": "08d15d59-88da-4470-9ad1-356c5b95843b",
    "execution": {
     "iopub.execute_input": "2023-10-20T23:25:11.526463Z",
     "iopub.status.busy": "2023-10-20T23:25:11.525829Z",
     "iopub.status.idle": "2023-10-20T23:25:12.255195Z",
     "shell.execute_reply": "2023-10-20T23:25:12.254101Z",
     "shell.execute_reply.started": "2023-10-20T23:25:11.526423Z"
    },
    "jupyter": {
     "outputs_hidden": false
    }
   },
   "outputs": [
    {
     "data": {
      "text/html": [
       "<div>\n",
       "<style scoped>\n",
       "    .dataframe tbody tr th:only-of-type {\n",
       "        vertical-align: middle;\n",
       "    }\n",
       "\n",
       "    .dataframe tbody tr th {\n",
       "        vertical-align: top;\n",
       "    }\n",
       "\n",
       "    .dataframe thead th {\n",
       "        text-align: right;\n",
       "    }\n",
       "</style>\n",
       "<table border=\"1\" class=\"dataframe\">\n",
       "  <thead>\n",
       "    <tr style=\"text-align: right;\">\n",
       "      <th></th>\n",
       "      <th>Unnamed: 0</th>\n",
       "      <th>airline</th>\n",
       "      <th>flight</th>\n",
       "      <th>source_city</th>\n",
       "      <th>departure_time</th>\n",
       "      <th>stops</th>\n",
       "      <th>arrival_time</th>\n",
       "      <th>destination_city</th>\n",
       "      <th>Class</th>\n",
       "      <th>duration</th>\n",
       "      <th>days_left</th>\n",
       "      <th>price</th>\n",
       "    </tr>\n",
       "  </thead>\n",
       "  <tbody>\n",
       "    <tr>\n",
       "      <th>0</th>\n",
       "      <td>0</td>\n",
       "      <td>SpiceJet</td>\n",
       "      <td>SG-8709</td>\n",
       "      <td>Delhi</td>\n",
       "      <td>Evening</td>\n",
       "      <td>zero</td>\n",
       "      <td>Night</td>\n",
       "      <td>Mumbai</td>\n",
       "      <td>Economy</td>\n",
       "      <td>2.17</td>\n",
       "      <td>1</td>\n",
       "      <td>5953</td>\n",
       "    </tr>\n",
       "    <tr>\n",
       "      <th>1</th>\n",
       "      <td>1</td>\n",
       "      <td>SpiceJet</td>\n",
       "      <td>SG-8157</td>\n",
       "      <td>Delhi</td>\n",
       "      <td>Early_Morning</td>\n",
       "      <td>zero</td>\n",
       "      <td>Morning</td>\n",
       "      <td>Mumbai</td>\n",
       "      <td>Economy</td>\n",
       "      <td>2.33</td>\n",
       "      <td>1</td>\n",
       "      <td>5953</td>\n",
       "    </tr>\n",
       "    <tr>\n",
       "      <th>2</th>\n",
       "      <td>2</td>\n",
       "      <td>AirAsia</td>\n",
       "      <td>I5-764</td>\n",
       "      <td>Delhi</td>\n",
       "      <td>Early_Morning</td>\n",
       "      <td>zero</td>\n",
       "      <td>Early_Morning</td>\n",
       "      <td>Mumbai</td>\n",
       "      <td>Economy</td>\n",
       "      <td>2.17</td>\n",
       "      <td>1</td>\n",
       "      <td>5956</td>\n",
       "    </tr>\n",
       "    <tr>\n",
       "      <th>3</th>\n",
       "      <td>3</td>\n",
       "      <td>Vistara</td>\n",
       "      <td>UK-995</td>\n",
       "      <td>Delhi</td>\n",
       "      <td>Morning</td>\n",
       "      <td>zero</td>\n",
       "      <td>Afternoon</td>\n",
       "      <td>Mumbai</td>\n",
       "      <td>Economy</td>\n",
       "      <td>2.25</td>\n",
       "      <td>1</td>\n",
       "      <td>5955</td>\n",
       "    </tr>\n",
       "    <tr>\n",
       "      <th>4</th>\n",
       "      <td>4</td>\n",
       "      <td>Vistara</td>\n",
       "      <td>UK-963</td>\n",
       "      <td>Delhi</td>\n",
       "      <td>Morning</td>\n",
       "      <td>zero</td>\n",
       "      <td>Morning</td>\n",
       "      <td>Mumbai</td>\n",
       "      <td>Economy</td>\n",
       "      <td>2.33</td>\n",
       "      <td>1</td>\n",
       "      <td>5955</td>\n",
       "    </tr>\n",
       "  </tbody>\n",
       "</table>\n",
       "</div>"
      ],
      "text/plain": [
       "   Unnamed: 0   airline   flight source_city departure_time stops  \\\n",
       "0           0  SpiceJet  SG-8709       Delhi        Evening  zero   \n",
       "1           1  SpiceJet  SG-8157       Delhi  Early_Morning  zero   \n",
       "2           2   AirAsia   I5-764       Delhi  Early_Morning  zero   \n",
       "3           3   Vistara   UK-995       Delhi        Morning  zero   \n",
       "4           4   Vistara   UK-963       Delhi        Morning  zero   \n",
       "\n",
       "    arrival_time destination_city    Class  duration  days_left  price  \n",
       "0          Night           Mumbai  Economy      2.17          1   5953  \n",
       "1        Morning           Mumbai  Economy      2.33          1   5953  \n",
       "2  Early_Morning           Mumbai  Economy      2.17          1   5956  \n",
       "3      Afternoon           Mumbai  Economy      2.25          1   5955  \n",
       "4        Morning           Mumbai  Economy      2.33          1   5955  "
      ]
     },
     "execution_count": 2,
     "metadata": {},
     "output_type": "execute_result"
    }
   ],
   "source": [
    "#load the dataset\n",
    "\n",
    "df = pd.read_csv(f'C:/Users/ilout/Desktop/09 Agile/Final Assignment/Clean_Dataset.csv')\n",
    "df.head()"
   ]
  },
  {
   "cell_type": "code",
   "execution_count": 3,
   "metadata": {
    "_cell_guid": "cc05b5f0-fe7c-46b8-84f1-e04ac5d373b0",
    "_uuid": "3a9aa669-4a9e-4223-bf13-b05676a02b34",
    "execution": {
     "iopub.execute_input": "2023-10-20T21:36:48.239008Z",
     "iopub.status.busy": "2023-10-20T21:36:48.238472Z",
     "iopub.status.idle": "2023-10-20T21:36:48.525650Z",
     "shell.execute_reply": "2023-10-20T21:36:48.523761Z",
     "shell.execute_reply.started": "2023-10-20T21:36:48.238966Z"
    },
    "jupyter": {
     "outputs_hidden": false
    }
   },
   "outputs": [
    {
     "name": "stdout",
     "output_type": "stream",
     "text": [
      "<class 'pandas.core.frame.DataFrame'>\n",
      "RangeIndex: 300153 entries, 0 to 300152\n",
      "Data columns (total 12 columns):\n",
      " #   Column            Non-Null Count   Dtype  \n",
      "---  ------            --------------   -----  \n",
      " 0   Unnamed: 0        300153 non-null  int64  \n",
      " 1   airline           300153 non-null  object \n",
      " 2   flight            300153 non-null  object \n",
      " 3   source_city       300153 non-null  object \n",
      " 4   departure_time    300153 non-null  object \n",
      " 5   stops             300153 non-null  object \n",
      " 6   arrival_time      300153 non-null  object \n",
      " 7   destination_city  300153 non-null  object \n",
      " 8   Class             300153 non-null  object \n",
      " 9   duration          300153 non-null  float64\n",
      " 10  days_left         300153 non-null  int64  \n",
      " 11  price             300153 non-null  int64  \n",
      "dtypes: float64(1), int64(3), object(8)\n",
      "memory usage: 27.5+ MB\n"
     ]
    }
   ],
   "source": [
    "df.info()"
   ]
  },
  {
   "cell_type": "code",
   "execution_count": 4,
   "metadata": {
    "_cell_guid": "a18cba2b-4e25-46a4-9d59-a1aff9dfc6e4",
    "_uuid": "6f59a316-bad4-49a7-a3c0-4c071b34b522",
    "execution": {
     "iopub.execute_input": "2023-10-20T23:25:16.607408Z",
     "iopub.status.busy": "2023-10-20T23:25:16.606371Z",
     "iopub.status.idle": "2023-10-20T23:25:16.875153Z",
     "shell.execute_reply": "2023-10-20T23:25:16.873960Z",
     "shell.execute_reply.started": "2023-10-20T23:25:16.607347Z"
    },
    "jupyter": {
     "outputs_hidden": false
    }
   },
   "outputs": [
    {
     "data": {
      "text/plain": [
       "0"
      ]
     },
     "execution_count": 4,
     "metadata": {},
     "output_type": "execute_result"
    }
   ],
   "source": [
    "df.duplicated().sum()"
   ]
  },
  {
   "cell_type": "code",
   "execution_count": 5,
   "metadata": {},
   "outputs": [
    {
     "data": {
      "text/plain": [
       "flight\n",
       "UK-706     3235\n",
       "UK-772     2741\n",
       "UK-720     2650\n",
       "UK-836     2542\n",
       "UK-822     2468\n",
       "           ... \n",
       "SG-9923       1\n",
       "6E-6474       1\n",
       "6E-865        1\n",
       "G8-705        1\n",
       "G8-107        1\n",
       "Name: count, Length: 1561, dtype: int64"
      ]
     },
     "execution_count": 5,
     "metadata": {},
     "output_type": "execute_result"
    }
   ],
   "source": [
    "df.flight.value_counts()"
   ]
  },
  {
   "cell_type": "code",
   "execution_count": 6,
   "metadata": {
    "_cell_guid": "45372dd4-dee2-4b51-99fc-debc338a1d9b",
    "_uuid": "297f0413-12d7-4530-b023-b9482ce9cb8d",
    "execution": {
     "iopub.execute_input": "2023-10-20T23:25:22.639515Z",
     "iopub.status.busy": "2023-10-20T23:25:22.639019Z",
     "iopub.status.idle": "2023-10-20T23:25:22.684362Z",
     "shell.execute_reply": "2023-10-20T23:25:22.683291Z",
     "shell.execute_reply.started": "2023-10-20T23:25:22.639468Z"
    },
    "jupyter": {
     "outputs_hidden": false
    }
   },
   "outputs": [],
   "source": [
    "#drop the unnamed column\n",
    "df.drop('Unnamed: 0', axis = 1, inplace=True)\n",
    "df.drop('flight', axis = 1, inplace = True)"
   ]
  },
  {
   "cell_type": "code",
   "execution_count": 7,
   "metadata": {
    "_cell_guid": "a3ea9f7a-a4b9-4c8f-807e-e8445c963f12",
    "_uuid": "72168399-24cc-49e2-b11f-8541bdba6ae4",
    "execution": {
     "iopub.execute_input": "2023-10-20T23:25:25.902323Z",
     "iopub.status.busy": "2023-10-20T23:25:25.901781Z",
     "iopub.status.idle": "2023-10-20T23:25:25.911554Z",
     "shell.execute_reply": "2023-10-20T23:25:25.910218Z",
     "shell.execute_reply.started": "2023-10-20T23:25:25.902278Z"
    },
    "jupyter": {
     "outputs_hidden": false
    }
   },
   "outputs": [
    {
     "data": {
      "text/plain": [
       "Index(['airline', 'source_city', 'departure_time', 'stops', 'arrival_time',\n",
       "       'destination_city', 'Class', 'duration', 'days_left', 'price'],\n",
       "      dtype='object')"
      ]
     },
     "execution_count": 7,
     "metadata": {},
     "output_type": "execute_result"
    }
   ],
   "source": [
    "df.columns"
   ]
  },
  {
   "cell_type": "code",
   "execution_count": 8,
   "metadata": {},
   "outputs": [
    {
     "name": "stdout",
     "output_type": "stream",
     "text": [
      "<class 'pandas.core.frame.DataFrame'>\n",
      "RangeIndex: 300153 entries, 0 to 300152\n",
      "Data columns (total 10 columns):\n",
      " #   Column            Non-Null Count   Dtype  \n",
      "---  ------            --------------   -----  \n",
      " 0   airline           300153 non-null  object \n",
      " 1   source_city       300153 non-null  object \n",
      " 2   departure_time    300153 non-null  object \n",
      " 3   stops             300153 non-null  object \n",
      " 4   arrival_time      300153 non-null  object \n",
      " 5   destination_city  300153 non-null  object \n",
      " 6   Class             300153 non-null  object \n",
      " 7   duration          300153 non-null  float64\n",
      " 8   days_left         300153 non-null  int64  \n",
      " 9   price             300153 non-null  int64  \n",
      "dtypes: float64(1), int64(2), object(7)\n",
      "memory usage: 22.9+ MB\n"
     ]
    }
   ],
   "source": [
    "df.info()"
   ]
  },
  {
   "cell_type": "code",
   "execution_count": 9,
   "metadata": {
    "_cell_guid": "f91823fb-1fe8-4f11-a9cb-0f21b02bea67",
    "_uuid": "48a9bd5f-c865-4dbe-9e88-6104e64e7c32",
    "execution": {
     "iopub.execute_input": "2023-10-20T21:37:24.576259Z",
     "iopub.status.busy": "2023-10-20T21:37:24.575673Z",
     "iopub.status.idle": "2023-10-20T21:37:24.814856Z",
     "shell.execute_reply": "2023-10-20T21:37:24.813833Z",
     "shell.execute_reply.started": "2023-10-20T21:37:24.576208Z"
    },
    "jupyter": {
     "outputs_hidden": false
    }
   },
   "outputs": [
    {
     "data": {
      "text/plain": [
       "airline                 6\n",
       "source_city             6\n",
       "departure_time          6\n",
       "stops                   3\n",
       "arrival_time            6\n",
       "destination_city        6\n",
       "Class                   2\n",
       "duration              476\n",
       "days_left              49\n",
       "price               12157\n",
       "dtype: int64"
      ]
     },
     "execution_count": 9,
     "metadata": {},
     "output_type": "execute_result"
    }
   ],
   "source": [
    "#check the total number of unique values\n",
    "df.nunique()"
   ]
  },
  {
   "cell_type": "code",
   "execution_count": 10,
   "metadata": {
    "_cell_guid": "f1ae178e-8b1c-40a9-b3a0-f546271506c0",
    "_uuid": "23a3cafd-5aab-4313-a0c8-10dd7b4bcbc3",
    "execution": {
     "iopub.execute_input": "2023-10-20T21:37:29.097645Z",
     "iopub.status.busy": "2023-10-20T21:37:29.097210Z",
     "iopub.status.idle": "2023-10-20T21:37:29.159988Z",
     "shell.execute_reply": "2023-10-20T21:37:29.158456Z",
     "shell.execute_reply.started": "2023-10-20T21:37:29.097613Z"
    },
    "jupyter": {
     "outputs_hidden": false
    }
   },
   "outputs": [
    {
     "data": {
      "text/html": [
       "<div>\n",
       "<style scoped>\n",
       "    .dataframe tbody tr th:only-of-type {\n",
       "        vertical-align: middle;\n",
       "    }\n",
       "\n",
       "    .dataframe tbody tr th {\n",
       "        vertical-align: top;\n",
       "    }\n",
       "\n",
       "    .dataframe thead th {\n",
       "        text-align: right;\n",
       "    }\n",
       "</style>\n",
       "<table border=\"1\" class=\"dataframe\">\n",
       "  <thead>\n",
       "    <tr style=\"text-align: right;\">\n",
       "      <th></th>\n",
       "      <th>count</th>\n",
       "      <th>mean</th>\n",
       "      <th>std</th>\n",
       "      <th>min</th>\n",
       "      <th>25%</th>\n",
       "      <th>50%</th>\n",
       "      <th>75%</th>\n",
       "      <th>max</th>\n",
       "    </tr>\n",
       "  </thead>\n",
       "  <tbody>\n",
       "    <tr>\n",
       "      <th>duration</th>\n",
       "      <td>300153.0</td>\n",
       "      <td>12.221021</td>\n",
       "      <td>7.191997</td>\n",
       "      <td>0.83</td>\n",
       "      <td>6.83</td>\n",
       "      <td>11.25</td>\n",
       "      <td>16.17</td>\n",
       "      <td>49.83</td>\n",
       "    </tr>\n",
       "    <tr>\n",
       "      <th>days_left</th>\n",
       "      <td>300153.0</td>\n",
       "      <td>26.004751</td>\n",
       "      <td>13.561004</td>\n",
       "      <td>1.00</td>\n",
       "      <td>15.00</td>\n",
       "      <td>26.00</td>\n",
       "      <td>38.00</td>\n",
       "      <td>49.00</td>\n",
       "    </tr>\n",
       "    <tr>\n",
       "      <th>price</th>\n",
       "      <td>300153.0</td>\n",
       "      <td>20889.660523</td>\n",
       "      <td>22697.767366</td>\n",
       "      <td>1105.00</td>\n",
       "      <td>4783.00</td>\n",
       "      <td>7425.00</td>\n",
       "      <td>42521.00</td>\n",
       "      <td>123071.00</td>\n",
       "    </tr>\n",
       "  </tbody>\n",
       "</table>\n",
       "</div>"
      ],
      "text/plain": [
       "              count          mean           std      min      25%      50%  \\\n",
       "duration   300153.0     12.221021      7.191997     0.83     6.83    11.25   \n",
       "days_left  300153.0     26.004751     13.561004     1.00    15.00    26.00   \n",
       "price      300153.0  20889.660523  22697.767366  1105.00  4783.00  7425.00   \n",
       "\n",
       "                75%        max  \n",
       "duration      16.17      49.83  \n",
       "days_left     38.00      49.00  \n",
       "price      42521.00  123071.00  "
      ]
     },
     "execution_count": 10,
     "metadata": {},
     "output_type": "execute_result"
    }
   ],
   "source": [
    "#statistical description of numeric column\n",
    "df.describe()[['duration', 'days_left','price']].T"
   ]
  },
  {
   "cell_type": "code",
   "execution_count": 11,
   "metadata": {
    "_cell_guid": "ccaecccc-7d1c-4711-8611-114c25b5f12a",
    "_uuid": "16ebb321-7bf3-49d7-8c93-9b81ca703d0e",
    "execution": {
     "iopub.execute_input": "2023-10-20T23:25:35.114600Z",
     "iopub.status.busy": "2023-10-20T23:25:35.114228Z",
     "iopub.status.idle": "2023-10-20T23:25:35.470875Z",
     "shell.execute_reply": "2023-10-20T23:25:35.469641Z",
     "shell.execute_reply.started": "2023-10-20T23:25:35.114571Z"
    },
    "jupyter": {
     "outputs_hidden": false
    }
   },
   "outputs": [
    {
     "data": {
      "text/html": [
       "<div>\n",
       "<style scoped>\n",
       "    .dataframe tbody tr th:only-of-type {\n",
       "        vertical-align: middle;\n",
       "    }\n",
       "\n",
       "    .dataframe tbody tr th {\n",
       "        vertical-align: top;\n",
       "    }\n",
       "\n",
       "    .dataframe thead th {\n",
       "        text-align: right;\n",
       "    }\n",
       "</style>\n",
       "<table border=\"1\" class=\"dataframe\">\n",
       "  <thead>\n",
       "    <tr style=\"text-align: right;\">\n",
       "      <th></th>\n",
       "      <th>count</th>\n",
       "      <th>unique</th>\n",
       "      <th>top</th>\n",
       "      <th>freq</th>\n",
       "    </tr>\n",
       "  </thead>\n",
       "  <tbody>\n",
       "    <tr>\n",
       "      <th>airline</th>\n",
       "      <td>300153</td>\n",
       "      <td>6</td>\n",
       "      <td>Vistara</td>\n",
       "      <td>127859</td>\n",
       "    </tr>\n",
       "    <tr>\n",
       "      <th>source_city</th>\n",
       "      <td>300153</td>\n",
       "      <td>6</td>\n",
       "      <td>Delhi</td>\n",
       "      <td>61343</td>\n",
       "    </tr>\n",
       "    <tr>\n",
       "      <th>departure_time</th>\n",
       "      <td>300153</td>\n",
       "      <td>6</td>\n",
       "      <td>Morning</td>\n",
       "      <td>71146</td>\n",
       "    </tr>\n",
       "    <tr>\n",
       "      <th>stops</th>\n",
       "      <td>300153</td>\n",
       "      <td>3</td>\n",
       "      <td>one</td>\n",
       "      <td>250863</td>\n",
       "    </tr>\n",
       "    <tr>\n",
       "      <th>arrival_time</th>\n",
       "      <td>300153</td>\n",
       "      <td>6</td>\n",
       "      <td>Night</td>\n",
       "      <td>91538</td>\n",
       "    </tr>\n",
       "    <tr>\n",
       "      <th>destination_city</th>\n",
       "      <td>300153</td>\n",
       "      <td>6</td>\n",
       "      <td>Mumbai</td>\n",
       "      <td>59097</td>\n",
       "    </tr>\n",
       "    <tr>\n",
       "      <th>Class</th>\n",
       "      <td>300153</td>\n",
       "      <td>2</td>\n",
       "      <td>Economy</td>\n",
       "      <td>206666</td>\n",
       "    </tr>\n",
       "  </tbody>\n",
       "</table>\n",
       "</div>"
      ],
      "text/plain": [
       "                   count unique      top    freq\n",
       "airline           300153      6  Vistara  127859\n",
       "source_city       300153      6    Delhi   61343\n",
       "departure_time    300153      6  Morning   71146\n",
       "stops             300153      3      one  250863\n",
       "arrival_time      300153      6    Night   91538\n",
       "destination_city  300153      6   Mumbai   59097\n",
       "Class             300153      2  Economy  206666"
      ]
     },
     "execution_count": 11,
     "metadata": {},
     "output_type": "execute_result"
    }
   ],
   "source": [
    "df.describe(include='object').T"
   ]
  },
  {
   "cell_type": "markdown",
   "metadata": {
    "_cell_guid": "e1aef351-e48f-4ffc-a999-0187727bfc0b",
    "_uuid": "006b1316-2a74-4bea-b1a4-d23150929dfb"
   },
   "source": [
    "# Data Visualization"
   ]
  },
  {
   "cell_type": "markdown",
   "metadata": {
    "_cell_guid": "c8389dad-5948-4fb6-a7cf-38dd7ef80f52",
    "_uuid": "e7195ec0-d426-4ea4-aea6-aef65d65a6d5"
   },
   "source": [
    "# Price vs. Airlines:\n",
    "\n",
    "## Varierar priserna med flygbolagen?"
   ]
  },
  {
   "cell_type": "code",
   "execution_count": 12,
   "metadata": {
    "_cell_guid": "ad78ed60-b654-45a8-a9ce-33802c47e39d",
    "_uuid": "aa45734b-ac0a-4f3d-b75e-127bacd17cb3",
    "execution": {
     "iopub.execute_input": "2023-10-20T21:37:44.204078Z",
     "iopub.status.busy": "2023-10-20T21:37:44.203563Z",
     "iopub.status.idle": "2023-10-20T21:37:44.623076Z",
     "shell.execute_reply": "2023-10-20T21:37:44.621542Z",
     "shell.execute_reply.started": "2023-10-20T21:37:44.204036Z"
    },
    "jupyter": {
     "outputs_hidden": false
    }
   },
   "outputs": [
    {
     "name": "stderr",
     "output_type": "stream",
     "text": [
      "C:\\Users\\ilout\\anaconda3\\envs\\tf\\lib\\site-packages\\seaborn\\_oldcore.py:1498: FutureWarning: is_categorical_dtype is deprecated and will be removed in a future version. Use isinstance(dtype, CategoricalDtype) instead\n",
      "  if pd.api.types.is_categorical_dtype(vector):\n",
      "C:\\Users\\ilout\\anaconda3\\envs\\tf\\lib\\site-packages\\seaborn\\_oldcore.py:1498: FutureWarning: is_categorical_dtype is deprecated and will be removed in a future version. Use isinstance(dtype, CategoricalDtype) instead\n",
      "  if pd.api.types.is_categorical_dtype(vector):\n",
      "C:\\Users\\ilout\\anaconda3\\envs\\tf\\lib\\site-packages\\seaborn\\_oldcore.py:1498: FutureWarning: is_categorical_dtype is deprecated and will be removed in a future version. Use isinstance(dtype, CategoricalDtype) instead\n",
      "  if pd.api.types.is_categorical_dtype(vector):\n"
     ]
    },
    {
     "data": {
      "image/png": "[encoded data removed]",
      "text/plain": [
       "<Figure size 1000x600 with 1 Axes>"
      ]
     },
     "metadata": {},
     "output_type": "display_data"
    }
   ],
   "source": [
    "import matplotlib.pyplot as plt\n",
    "import seaborn as sns\n",
    "\n",
    "# Grupperar datan på airline och kalkulerar average price.\n",
    "avg_price_by_airline = df.groupby('airline')['price'].mean().reset_index()\n",
    "\n",
    "# Skapar en bar chart\n",
    "plt.figure(figsize=(10, 6))\n",
    "sns.barplot(x='airline', y='price', data=avg_price_by_airline)\n",
    "plt.xticks(rotation=45)\n",
    "plt.xlabel('Airline')\n",
    "plt.ylabel('Average Price')\n",
    "plt.title('Average Price by Airline')\n",
    "plt.show()"
   ]
  },
  {
   "cell_type": "markdown",
   "metadata": {
    "_cell_guid": "ce864868-fd8d-49ad-9e6f-16d39c2762ff",
    "_uuid": "7dba3fc5-adae-446f-b587-407a19e7f7c4"
   },
   "source": [
    "# b) Price vs. Days Left:\n",
    "\n",
    "## Hur påverkas priset beroende på när man bokar biljetten?"
   ]
  },
  {
   "cell_type": "code",
   "execution_count": 13,
   "metadata": {
    "_cell_guid": "6ebdebd7-021d-4629-95c3-e3e615cda576",
    "_uuid": "b6fa404d-c7c1-4101-8eed-f1c1d41cb542",
    "execution": {
     "iopub.execute_input": "2023-10-20T21:37:50.176816Z",
     "iopub.status.busy": "2023-10-20T21:37:50.176277Z",
     "iopub.status.idle": "2023-10-20T21:37:50.544824Z",
     "shell.execute_reply": "2023-10-20T21:37:50.543215Z",
     "shell.execute_reply.started": "2023-10-20T21:37:50.176775Z"
    },
    "jupyter": {
     "outputs_hidden": false
    }
   },
   "outputs": [
    {
     "name": "stderr",
     "output_type": "stream",
     "text": [
      "C:\\Users\\ilout\\anaconda3\\envs\\tf\\lib\\site-packages\\seaborn\\_oldcore.py:1498: FutureWarning: is_categorical_dtype is deprecated and will be removed in a future version. Use isinstance(dtype, CategoricalDtype) instead\n",
      "  if pd.api.types.is_categorical_dtype(vector):\n",
      "C:\\Users\\ilout\\anaconda3\\envs\\tf\\lib\\site-packages\\seaborn\\_oldcore.py:1498: FutureWarning: is_categorical_dtype is deprecated and will be removed in a future version. Use isinstance(dtype, CategoricalDtype) instead\n",
      "  if pd.api.types.is_categorical_dtype(vector):\n",
      "C:\\Users\\ilout\\anaconda3\\envs\\tf\\lib\\site-packages\\seaborn\\_oldcore.py:1119: FutureWarning: use_inf_as_na option is deprecated and will be removed in a future version. Convert inf values to NaN before operating instead.\n",
      "  with pd.option_context('mode.use_inf_as_na', True):\n",
      "C:\\Users\\ilout\\anaconda3\\envs\\tf\\lib\\site-packages\\seaborn\\_oldcore.py:1119: FutureWarning: use_inf_as_na option is deprecated and will be removed in a future version. Convert inf values to NaN before operating instead.\n",
      "  with pd.option_context('mode.use_inf_as_na', True):\n"
     ]
    },
    {
     "data": {
      "image/png": "[encoded data removed]",
      "text/plain": [
       "<Figure size 1000x600 with 1 Axes>"
      ]
     },
     "metadata": {},
     "output_type": "display_data"
    }
   ],
   "source": [
    "# Group data by days_left and calculate average price\n",
    "avg_price_by_days_left = df.groupby('days_left')['price'].mean().reset_index()\n",
    "\n",
    "# Create a line plot\n",
    "plt.figure(figsize=(10, 6))\n",
    "sns.lineplot(x='days_left', y='price', data=avg_price_by_days_left, marker='o')\n",
    "plt.xlabel('Days Left before Departure')\n",
    "plt.ylabel('Average Price')\n",
    "plt.title('Average Price vs. Days Left')\n",
    "plt.show()"
   ]
  },
  {
   "cell_type": "markdown",
   "metadata": {
    "_cell_guid": "eeac5954-fb1f-4edf-aca9-62ea36712452",
    "_uuid": "e857f00d-f5b4-4618-89b5-6262b79f71ed"
   },
   "source": [
    "# c) Price vs. Departure Time and Arrival Time:\n",
    "\n",
    "## Ändras biljettpriset baserat på avresetid och ankomsttid?"
   ]
  },
  {
   "cell_type": "code",
   "execution_count": 14,
   "metadata": {
    "_cell_guid": "77925ce3-1016-4a71-846f-871cde60f1ca",
    "_uuid": "9d493232-c452-45a3-9647-c599a5fd090f",
    "execution": {
     "iopub.execute_input": "2023-10-20T21:37:54.184794Z",
     "iopub.status.busy": "2023-10-20T21:37:54.184291Z",
     "iopub.status.idle": "2023-10-20T21:37:54.821844Z",
     "shell.execute_reply": "2023-10-20T21:37:54.820024Z",
     "shell.execute_reply.started": "2023-10-20T21:37:54.184759Z"
    },
    "jupyter": {
     "outputs_hidden": false
    }
   },
   "outputs": [
    {
     "name": "stderr",
     "output_type": "stream",
     "text": [
      "C:\\Users\\ilout\\anaconda3\\envs\\tf\\lib\\site-packages\\seaborn\\_oldcore.py:1498: FutureWarning: is_categorical_dtype is deprecated and will be removed in a future version. Use isinstance(dtype, CategoricalDtype) instead\n",
      "  if pd.api.types.is_categorical_dtype(vector):\n",
      "C:\\Users\\ilout\\anaconda3\\envs\\tf\\lib\\site-packages\\seaborn\\_oldcore.py:1498: FutureWarning: is_categorical_dtype is deprecated and will be removed in a future version. Use isinstance(dtype, CategoricalDtype) instead\n",
      "  if pd.api.types.is_categorical_dtype(vector):\n",
      "C:\\Users\\ilout\\anaconda3\\envs\\tf\\lib\\site-packages\\seaborn\\_oldcore.py:1498: FutureWarning: is_categorical_dtype is deprecated and will be removed in a future version. Use isinstance(dtype, CategoricalDtype) instead\n",
      "  if pd.api.types.is_categorical_dtype(vector):\n",
      "C:\\Users\\ilout\\anaconda3\\envs\\tf\\lib\\site-packages\\seaborn\\_oldcore.py:1498: FutureWarning: is_categorical_dtype is deprecated and will be removed in a future version. Use isinstance(dtype, CategoricalDtype) instead\n",
      "  if pd.api.types.is_categorical_dtype(vector):\n",
      "C:\\Users\\ilout\\anaconda3\\envs\\tf\\lib\\site-packages\\seaborn\\_oldcore.py:1498: FutureWarning: is_categorical_dtype is deprecated and will be removed in a future version. Use isinstance(dtype, CategoricalDtype) instead\n",
      "  if pd.api.types.is_categorical_dtype(vector):\n",
      "C:\\Users\\ilout\\anaconda3\\envs\\tf\\lib\\site-packages\\seaborn\\_oldcore.py:1498: FutureWarning: is_categorical_dtype is deprecated and will be removed in a future version. Use isinstance(dtype, CategoricalDtype) instead\n",
      "  if pd.api.types.is_categorical_dtype(vector):\n"
     ]
    },
    {
     "data": {
      "image/png": "[encoded data removed]",
      "text/plain": [
       "<Figure size 1400x600 with 2 Axes>"
      ]
     },
     "metadata": {},
     "output_type": "display_data"
    }
   ],
   "source": [
    "# Group data by departure_time and arrival_time and calculate average price\n",
    "avg_price_by_departure_time = df.groupby('departure_time')['price'].mean().reset_index()\n",
    "avg_price_by_arrival_time = df.groupby('arrival_time')['price'].mean().reset_index()\n",
    "\n",
    "# Create two subplots\n",
    "fig, (ax1, ax2) = plt.subplots(1, 2, figsize=(14, 6))\n",
    "\n",
    "# Departure Time vs. Price\n",
    "sns.barplot(x='departure_time', y='price', data=avg_price_by_departure_time, ax=ax1)\n",
    "ax1.set_xlabel('Departure Time')\n",
    "ax1.set_ylabel('Average Price')\n",
    "ax1.set_title('Average Price vs. Departure Time')\n",
    "\n",
    "# Arrival Time vs. Price\n",
    "sns.barplot(x='arrival_time', y='price', data=avg_price_by_arrival_time, ax=ax2)\n",
    "ax2.set_xlabel('Arrival Time')\n",
    "ax2.set_ylabel('Average Price')\n",
    "ax2.set_title('Average Price vs. Arrival Time')\n",
    "\n",
    "plt.tight_layout()\n",
    "plt.show()"
   ]
  },
  {
   "cell_type": "markdown",
   "metadata": {
    "_cell_guid": "b6847ff6-236a-43ce-ade4-44fd93905a75",
    "_uuid": "6a36f1ce-4fca-47f5-957b-a0f06e3529f4"
   },
   "source": [
    "# d) Price vs. Source and Destination:\n",
    "\n",
    "## Hur påverkas priset av en förändring av avreseort och destination?"
   ]
  },
  {
   "cell_type": "code",
   "execution_count": 15,
   "metadata": {
    "_cell_guid": "bff7ebdb-e1db-4a73-9144-24f068ccf5dc",
    "_uuid": "94ab5d4d-c437-4e5b-8a24-8c6453ea8dfd",
    "execution": {
     "iopub.execute_input": "2023-10-20T21:37:57.569193Z",
     "iopub.status.busy": "2023-10-20T21:37:57.568610Z",
     "iopub.status.idle": "2023-10-20T21:37:58.183637Z",
     "shell.execute_reply": "2023-10-20T21:37:58.182335Z",
     "shell.execute_reply.started": "2023-10-20T21:37:57.569124Z"
    },
    "jupyter": {
     "outputs_hidden": false
    }
   },
   "outputs": [
    {
     "data": {
      "image/png": "[encoded data removed]",
      "text/plain": [
       "<Figure size 1000x600 with 2 Axes>"
      ]
     },
     "metadata": {},
     "output_type": "display_data"
    }
   ],
   "source": [
    "# Group data by source_city and destination_city and calculate average price\n",
    "avg_price_by_route = df.groupby(['source_city', 'destination_city'])['price'].mean().reset_index()\n",
    "\n",
    "# Create a pivot table\n",
    "pivot_table = avg_price_by_route.pivot(index='source_city', columns='destination_city', values='price')\n",
    "\n",
    "# Create a heatmap\n",
    "plt.figure(figsize=(10, 6))\n",
    "sns.heatmap(pivot_table, annot=True, fmt=\".2f\", cmap='coolwarm')\n",
    "plt.xlabel('Destination City')\n",
    "plt.ylabel('Source City')\n",
    "plt.title('Average Price by Source and Destination')\n",
    "plt.show()"
   ]
  },
  {
   "cell_type": "markdown",
   "metadata": {
    "_cell_guid": "502e6f5c-7f74-4cb3-9ab1-d5396342bd0b",
    "_uuid": "5e5112c5-74fd-4e39-8688-b68dad96d695"
   },
   "source": [
    "## e) Price vs. Class:\n",
    "\n",
    "Hur varierar biljettpriset mellan economy och business-class?"
   ]
  },
  {
   "cell_type": "code",
   "execution_count": 16,
   "metadata": {
    "_cell_guid": "321b9aa6-30d1-4cf5-887c-5c966c61ced9",
    "_uuid": "0844b626-081f-4f6d-a57f-bff72aca6ac3",
    "execution": {
     "iopub.execute_input": "2023-10-20T21:38:02.934295Z",
     "iopub.status.busy": "2023-10-20T21:38:02.933860Z",
     "iopub.status.idle": "2023-10-20T21:38:03.256661Z",
     "shell.execute_reply": "2023-10-20T21:38:03.255420Z",
     "shell.execute_reply.started": "2023-10-20T21:38:02.934262Z"
    },
    "jupyter": {
     "outputs_hidden": false
    }
   },
   "outputs": [
    {
     "name": "stderr",
     "output_type": "stream",
     "text": [
      "C:\\Users\\ilout\\anaconda3\\envs\\tf\\lib\\site-packages\\seaborn\\_oldcore.py:1498: FutureWarning: is_categorical_dtype is deprecated and will be removed in a future version. Use isinstance(dtype, CategoricalDtype) instead\n",
      "  if pd.api.types.is_categorical_dtype(vector):\n",
      "C:\\Users\\ilout\\anaconda3\\envs\\tf\\lib\\site-packages\\seaborn\\_oldcore.py:1498: FutureWarning: is_categorical_dtype is deprecated and will be removed in a future version. Use isinstance(dtype, CategoricalDtype) instead\n",
      "  if pd.api.types.is_categorical_dtype(vector):\n",
      "C:\\Users\\ilout\\anaconda3\\envs\\tf\\lib\\site-packages\\seaborn\\_oldcore.py:1498: FutureWarning: is_categorical_dtype is deprecated and will be removed in a future version. Use isinstance(dtype, CategoricalDtype) instead\n",
      "  if pd.api.types.is_categorical_dtype(vector):\n"
     ]
    },
    {
     "data": {
      "image/png": "[encoded data removed]",
      "text/plain": [
       "<Figure size 800x600 with 1 Axes>"
      ]
     },
     "metadata": {},
     "output_type": "display_data"
    }
   ],
   "source": [
    "# Group data by class and calculate average price\n",
    "avg_price_by_class = df.groupby('Class')['price'].mean().reset_index()\n",
    "\n",
    "# Create a bar chart\n",
    "plt.figure(figsize=(8, 6))\n",
    "sns.barplot(x='Class', y='price', data=avg_price_by_class)\n",
    "plt.xlabel('Class')\n",
    "plt.ylabel('Average Price')\n",
    "plt.title('Average Price by Class')\n",
    "plt.show()"
   ]
  },
  {
   "cell_type": "markdown",
   "metadata": {
    "_cell_guid": "13095e26-ee63-47ac-b69e-c7643fb613b6",
    "_uuid": "ba5c805a-faa2-451c-a22a-0eda58cb7d27"
   },
   "source": [
    "# Modelling"
   ]
  },
  {
   "cell_type": "code",
   "execution_count": 17,
   "metadata": {},
   "outputs": [
    {
     "data": {
      "text/plain": [
       "array([1, 0])"
      ]
     },
     "execution_count": 17,
     "metadata": {},
     "output_type": "execute_result"
    }
   ],
   "source": [
    "from sklearn.preprocessing import LabelEncoder\n",
    "\n",
    "le_airline = LabelEncoder()\n",
    "df ['airline'] = le_airline.fit_transform(df['airline'])\n",
    "df['airline'].unique()\n",
    "\n",
    "le_source_city = LabelEncoder()\n",
    "df ['source_city'] = le_source_city.fit_transform(df['source_city'])\n",
    "df['source_city'].unique()\n",
    "\n",
    "le_departure_time = LabelEncoder()\n",
    "df ['departure_time'] = le_departure_time.fit_transform(df['departure_time'])\n",
    "df['departure_time'].unique()\n",
    "\n",
    "le_stops = LabelEncoder()\n",
    "df ['stops'] = le_stops.fit_transform(df['stops'])\n",
    "df['stops'].unique()\n",
    "\n",
    "le_arrival_time = LabelEncoder()\n",
    "df ['arrival_time'] = le_arrival_time.fit_transform(df['arrival_time'])\n",
    "df['arrival_time'].unique()\n",
    "\n",
    "le_destination_city = LabelEncoder()\n",
    "df ['destination_city'] = le_destination_city.fit_transform(df['destination_city'])\n",
    "df['destination_city'].unique()\n",
    "\n",
    "le_class = LabelEncoder()\n",
    "df ['Class'] = le_class.fit_transform(df['Class'])\n",
    "df['Class'].unique()\n",
    "\n"
   ]
  },
  {
   "cell_type": "code",
   "execution_count": 18,
   "metadata": {},
   "outputs": [
    {
     "data": {
      "text/html": [
       "<div>\n",
       "<style scoped>\n",
       "    .dataframe tbody tr th:only-of-type {\n",
       "        vertical-align: middle;\n",
       "    }\n",
       "\n",
       "    .dataframe tbody tr th {\n",
       "        vertical-align: top;\n",
       "    }\n",
       "\n",
       "    .dataframe thead th {\n",
       "        text-align: right;\n",
       "    }\n",
       "</style>\n",
       "<table border=\"1\" class=\"dataframe\">\n",
       "  <thead>\n",
       "    <tr style=\"text-align: right;\">\n",
       "      <th></th>\n",
       "      <th>airline</th>\n",
       "      <th>source_city</th>\n",
       "      <th>departure_time</th>\n",
       "      <th>stops</th>\n",
       "      <th>arrival_time</th>\n",
       "      <th>destination_city</th>\n",
       "      <th>Class</th>\n",
       "      <th>duration</th>\n",
       "      <th>days_left</th>\n",
       "      <th>price</th>\n",
       "    </tr>\n",
       "  </thead>\n",
       "  <tbody>\n",
       "    <tr>\n",
       "      <th>0</th>\n",
       "      <td>4</td>\n",
       "      <td>2</td>\n",
       "      <td>2</td>\n",
       "      <td>2</td>\n",
       "      <td>5</td>\n",
       "      <td>5</td>\n",
       "      <td>1</td>\n",
       "      <td>2.17</td>\n",
       "      <td>1</td>\n",
       "      <td>5953</td>\n",
       "    </tr>\n",
       "    <tr>\n",
       "      <th>1</th>\n",
       "      <td>4</td>\n",
       "      <td>2</td>\n",
       "      <td>1</td>\n",
       "      <td>2</td>\n",
       "      <td>4</td>\n",
       "      <td>5</td>\n",
       "      <td>1</td>\n",
       "      <td>2.33</td>\n",
       "      <td>1</td>\n",
       "      <td>5953</td>\n",
       "    </tr>\n",
       "    <tr>\n",
       "      <th>2</th>\n",
       "      <td>0</td>\n",
       "      <td>2</td>\n",
       "      <td>1</td>\n",
       "      <td>2</td>\n",
       "      <td>1</td>\n",
       "      <td>5</td>\n",
       "      <td>1</td>\n",
       "      <td>2.17</td>\n",
       "      <td>1</td>\n",
       "      <td>5956</td>\n",
       "    </tr>\n",
       "    <tr>\n",
       "      <th>3</th>\n",
       "      <td>5</td>\n",
       "      <td>2</td>\n",
       "      <td>4</td>\n",
       "      <td>2</td>\n",
       "      <td>0</td>\n",
       "      <td>5</td>\n",
       "      <td>1</td>\n",
       "      <td>2.25</td>\n",
       "      <td>1</td>\n",
       "      <td>5955</td>\n",
       "    </tr>\n",
       "    <tr>\n",
       "      <th>4</th>\n",
       "      <td>5</td>\n",
       "      <td>2</td>\n",
       "      <td>4</td>\n",
       "      <td>2</td>\n",
       "      <td>4</td>\n",
       "      <td>5</td>\n",
       "      <td>1</td>\n",
       "      <td>2.33</td>\n",
       "      <td>1</td>\n",
       "      <td>5955</td>\n",
       "    </tr>\n",
       "  </tbody>\n",
       "</table>\n",
       "</div>"
      ],
      "text/plain": [
       "   airline  source_city  departure_time  stops  arrival_time  \\\n",
       "0        4            2               2      2             5   \n",
       "1        4            2               1      2             4   \n",
       "2        0            2               1      2             1   \n",
       "3        5            2               4      2             0   \n",
       "4        5            2               4      2             4   \n",
       "\n",
       "   destination_city  Class  duration  days_left  price  \n",
       "0                 5      1      2.17          1   5953  \n",
       "1                 5      1      2.33          1   5953  \n",
       "2                 5      1      2.17          1   5956  \n",
       "3                 5      1      2.25          1   5955  \n",
       "4                 5      1      2.33          1   5955  "
      ]
     },
     "execution_count": 18,
     "metadata": {},
     "output_type": "execute_result"
    }
   ],
   "source": [
    "df.head()"
   ]
  },
  {
   "cell_type": "code",
   "execution_count": 19,
   "metadata": {
    "_cell_guid": "a5f47caf-6ac0-473a-8fb8-dee935c24f28",
    "_uuid": "dba68467-fd86-4aa7-9cb2-87fb1a3a4b20",
    "execution": {
     "iopub.execute_input": "2023-10-20T23:26:07.143162Z",
     "iopub.status.busy": "2023-10-20T23:26:07.142773Z",
     "iopub.status.idle": "2023-10-20T23:26:08.439081Z",
     "shell.execute_reply": "2023-10-20T23:26:08.438040Z",
     "shell.execute_reply.started": "2023-10-20T23:26:07.143129Z"
    },
    "jupyter": {
     "outputs_hidden": false
    }
   },
   "outputs": [],
   "source": [
    "# Train-Test Split\n",
    "from sklearn.model_selection import train_test_split\n",
    "\n",
    "X = df.drop(columns=['price'])\n",
    "y = df['price']\n",
    "X_train, X_test, y_train, y_test = train_test_split(X, y, test_size=0.2, random_state=42)"
   ]
  },
  {
   "cell_type": "code",
   "execution_count": 20,
   "metadata": {
    "_cell_guid": "1141b3c0-3346-46aa-a5d3-e3c25f28d269",
    "_uuid": "cdb3c995-0137-4c13-af2e-356fc22eb240",
    "execution": {
     "iopub.execute_input": "2023-10-20T23:26:11.431480Z",
     "iopub.status.busy": "2023-10-20T23:26:11.431022Z",
     "iopub.status.idle": "2023-10-20T23:26:11.439589Z",
     "shell.execute_reply": "2023-10-20T23:26:11.438548Z",
     "shell.execute_reply.started": "2023-10-20T23:26:11.431447Z"
    },
    "jupyter": {
     "outputs_hidden": false
    }
   },
   "outputs": [
    {
     "data": {
      "text/plain": [
       "((240122, 9), (60031, 9))"
      ]
     },
     "execution_count": 20,
     "metadata": {},
     "output_type": "execute_result"
    }
   ],
   "source": [
    "X_train.shape, X_test.shape"
   ]
  },
  {
   "cell_type": "markdown",
   "metadata": {
    "_cell_guid": "8e23a40d-1cc6-4b3c-8743-fc80e7c85215",
    "_uuid": "3ebf17eb-88c6-46c3-b629-76f3896f5f99"
   },
   "source": [
    "## Random Forest Regressor"
   ]
  },
  {
   "cell_type": "code",
   "execution_count": 21,
   "metadata": {
    "_cell_guid": "e710782d-4c1d-4672-b4c7-9ed39bad5309",
    "_uuid": "1556ce07-d724-4eed-bc94-535c2391e650",
    "execution": {
     "iopub.execute_input": "2023-10-20T21:38:41.703244Z",
     "iopub.status.busy": "2023-10-20T21:38:41.702712Z",
     "iopub.status.idle": "2023-10-20T22:06:08.190283Z",
     "shell.execute_reply": "2023-10-20T22:06:08.188491Z",
     "shell.execute_reply.started": "2023-10-20T21:38:41.703203Z"
    },
    "jupyter": {
     "outputs_hidden": false
    }
   },
   "outputs": [
    {
     "data": {
      "text/html": [
       "<style>#sk-container-id-1 {color: black;}#sk-container-id-1 pre{padding: 0;}#sk-container-id-1 div.sk-toggleable {background-color: white;}#sk-container-id-1 label.sk-toggleable__label {cursor: pointer;display: block;width: 100%;margin-bottom: 0;padding: 0.3em;box-sizing: border-box;text-align: center;}#sk-container-id-1 label.sk-toggleable__label-arrow:before {content: \"▸\";float: left;margin-right: 0.25em;color: #696969;}#sk-container-id-1 label.sk-toggleable__label-arrow:hover:before {color: black;}#sk-container-id-1 div.sk-estimator:hover label.sk-toggleable__label-arrow:before {color: black;}#sk-container-id-1 div.sk-toggleable__content {max-height: 0;max-width: 0;overflow: hidden;text-align: left;background-color: #f0f8ff;}#sk-container-id-1 div.sk-toggleable__content pre {margin: 0.2em;color: black;border-radius: 0.25em;background-color: #f0f8ff;}#sk-container-id-1 input.sk-toggleable__control:checked~div.sk-toggleable__content {max-height: 200px;max-width: 100%;overflow: auto;}#sk-container-id-1 input.sk-toggleable__control:checked~label.sk-toggleable__label-arrow:before {content: \"▾\";}#sk-container-id-1 div.sk-estimator input.sk-toggleable__control:checked~label.sk-toggleable__label {background-color: #d4ebff;}#sk-container-id-1 div.sk-label input.sk-toggleable__control:checked~label.sk-toggleable__label {background-color: #d4ebff;}#sk-container-id-1 input.sk-hidden--visually {border: 0;clip: rect(1px 1px 1px 1px);clip: rect(1px, 1px, 1px, 1px);height: 1px;margin: -1px;overflow: hidden;padding: 0;position: absolute;width: 1px;}#sk-container-id-1 div.sk-estimator {font-family: monospace;background-color: #f0f8ff;border: 1px dotted black;border-radius: 0.25em;box-sizing: border-box;margin-bottom: 0.5em;}#sk-container-id-1 div.sk-estimator:hover {background-color: #d4ebff;}#sk-container-id-1 div.sk-parallel-item::after {content: \"\";width: 100%;border-bottom: 1px solid gray;flex-grow: 1;}#sk-container-id-1 div.sk-label:hover label.sk-toggleable__label {background-color: #d4ebff;}#sk-container-id-1 div.sk-serial::before {content: \"\";position: absolute;border-left: 1px solid gray;box-sizing: border-box;top: 0;bottom: 0;left: 50%;z-index: 0;}#sk-container-id-1 div.sk-serial {display: flex;flex-direction: column;align-items: center;background-color: white;padding-right: 0.2em;padding-left: 0.2em;position: relative;}#sk-container-id-1 div.sk-item {position: relative;z-index: 1;}#sk-container-id-1 div.sk-parallel {display: flex;align-items: stretch;justify-content: center;background-color: white;position: relative;}#sk-container-id-1 div.sk-item::before, #sk-container-id-1 div.sk-parallel-item::before {content: \"\";position: absolute;border-left: 1px solid gray;box-sizing: border-box;top: 0;bottom: 0;left: 50%;z-index: -1;}#sk-container-id-1 div.sk-parallel-item {display: flex;flex-direction: column;z-index: 1;position: relative;background-color: white;}#sk-container-id-1 div.sk-parallel-item:first-child::after {align-self: flex-end;width: 50%;}#sk-container-id-1 div.sk-parallel-item:last-child::after {align-self: flex-start;width: 50%;}#sk-container-id-1 div.sk-parallel-item:only-child::after {width: 0;}#sk-container-id-1 div.sk-dashed-wrapped {border: 1px dashed gray;margin: 0 0.4em 0.5em 0.4em;box-sizing: border-box;padding-bottom: 0.4em;background-color: white;}#sk-container-id-1 div.sk-label label {font-family: monospace;font-weight: bold;display: inline-block;line-height: 1.2em;}#sk-container-id-1 div.sk-label-container {text-align: center;}#sk-container-id-1 div.sk-container {/* jupyter's `normalize.less` sets `[hidden] { display: none; }` but bootstrap.min.css set `[hidden] { display: none !important; }` so we also need the `!important` here to be able to override the default hidden behavior on the sphinx rendered scikit-learn.org. See: https://github.com/scikit-learn/scikit-learn/issues/21755 */display: inline-block !important;position: relative;}#sk-container-id-1 div.sk-text-repr-fallback {display: none;}</style><div id=\"sk-container-id-1\" class=\"sk-top-container\"><div class=\"sk-text-repr-fallback\"><pre>RandomForestRegressor(random_state=42)</pre><b>In a Jupyter environment, please rerun this cell to show the HTML representation or trust the notebook. <br />On GitHub, the HTML representation is unable to render, please try loading this page with nbviewer.org.</b></div><div class=\"sk-container\" hidden><div class=\"sk-item\"><div class=\"sk-estimator sk-toggleable\"><input class=\"sk-toggleable__control sk-hidden--visually\" id=\"sk-estimator-id-1\" type=\"checkbox\" checked><label for=\"sk-estimator-id-1\" class=\"sk-toggleable__label sk-toggleable__label-arrow\">RandomForestRegressor</label><div class=\"sk-toggleable__content\"><pre>RandomForestRegressor(random_state=42)</pre></div></div></div></div></div>"
      ],
      "text/plain": [
       "RandomForestRegressor(random_state=42)"
      ]
     },
     "execution_count": 21,
     "metadata": {},
     "output_type": "execute_result"
    }
   ],
   "source": [
    "#create a random forest regressor\n",
    "\n",
    "rf_model = RandomForestRegressor(n_estimators=100, max_depth=None, min_samples_split=2, \n",
    "                           min_samples_leaf=1,max_features=1.0, random_state=42)\n",
    "\n",
    "#fit the model on train set\n",
    "rf_model.fit(X_train, y_train)"
   ]
  },
  {
   "cell_type": "code",
   "execution_count": 22,
   "metadata": {
    "_cell_guid": "fb5cc53a-6097-4ad3-bf36-048913c21ab8",
    "_uuid": "8c1fe4b4-08bd-4931-a966-f734a9a61597",
    "execution": {
     "iopub.execute_input": "2023-10-20T22:06:32.115992Z",
     "iopub.status.busy": "2023-10-20T22:06:32.115300Z",
     "iopub.status.idle": "2023-10-20T22:06:37.016526Z",
     "shell.execute_reply": "2023-10-20T22:06:37.015020Z",
     "shell.execute_reply.started": "2023-10-20T22:06:32.115937Z"
    },
    "jupyter": {
     "outputs_hidden": false
    }
   },
   "outputs": [],
   "source": [
    "#make th eprediction for the test set\n",
    "y_pred_rf = rf_model.predict(X_test)\n"
   ]
  },
  {
   "cell_type": "code",
   "execution_count": 23,
   "metadata": {},
   "outputs": [
    {
     "name": "stdout",
     "output_type": "stream",
     "text": [
      "MSE for RandomForestRegressor is: 7764563.913352611\n",
      "Error for RandomForestRegressor is: 2786.49670973296\n",
      "R2 score for RandomForestRegressor is: 0.9849372824023692\n"
     ]
    }
   ],
   "source": [
    "MSE_rf =mean_squared_error(y_test, y_pred_rf)\n",
    "real_error_rf = np.sqrt(mean_squared_error(y_test, y_pred_rf)) \n",
    "\n",
    "print(\"MSE for RandomForestRegressor is:\", MSE_rf)\n",
    "print(\"Error for RandomForestRegressor is:\" , real_error_rf)\n",
    "print(\"R2 score for RandomForestRegressor is:\" , r2_score(y_test, y_pred_rf))"
   ]
  },
  {
   "cell_type": "markdown",
   "metadata": {
    "_cell_guid": "5a6a8849-9251-4292-8c14-cd2dc64edf30",
    "_uuid": "44e92472-8f27-4f8c-a64f-570988a23a81"
   },
   "source": [
    "## Linear Regression"
   ]
  },
  {
   "cell_type": "code",
   "execution_count": 24,
   "metadata": {
    "_cell_guid": "5a26c55a-e12d-4bd1-9ae8-e1c2a45f1d0b",
    "_uuid": "d0db1f7a-b3fe-4996-9f73-1ece199859e0",
    "execution": {
     "iopub.execute_input": "2023-10-20T23:26:19.092181Z",
     "iopub.status.busy": "2023-10-20T23:26:19.091002Z",
     "iopub.status.idle": "2023-10-20T23:27:39.807680Z",
     "shell.execute_reply": "2023-10-20T23:27:39.806185Z",
     "shell.execute_reply.started": "2023-10-20T23:26:19.092135Z"
    },
    "jupyter": {
     "outputs_hidden": false
    }
   },
   "outputs": [],
   "source": [
    "#create a Linearregression model\n",
    "from sklearn.linear_model import LinearRegression\n",
    "\n",
    "lr_model = LinearRegression()\n",
    "lr_model.fit(X_train, y_train)\n",
    "\n",
    "#get the predictions on test set\n",
    "y_pred_lr = lr_model.predict(X_test)"
   ]
  },
  {
   "cell_type": "code",
   "execution_count": 25,
   "metadata": {
    "_cell_guid": "df98fa4d-649b-429e-bdc5-2d3e84f86548",
    "_uuid": "79784d05-2ff7-4dac-93b6-e54090c37cc7",
    "execution": {
     "iopub.execute_input": "2023-10-20T23:28:02.308830Z",
     "iopub.status.busy": "2023-10-20T23:28:02.307678Z",
     "iopub.status.idle": "2023-10-20T23:28:02.318256Z",
     "shell.execute_reply": "2023-10-20T23:28:02.317066Z",
     "shell.execute_reply.started": "2023-10-20T23:28:02.308786Z"
    },
    "jupyter": {
     "outputs_hidden": false
    }
   },
   "outputs": [
    {
     "name": "stdout",
     "output_type": "stream",
     "text": [
      "MSE for linear regression is: 49200540.29372198\n",
      "Error for linear regression is: 7014.309680483318\n",
      "R2 score for RandomForestRegressor is: 0.904554350718816\n"
     ]
    }
   ],
   "source": [
    "#evaluate the linearRegression model performance using MSE\n",
    "\n",
    "MSE_lr = mean_squared_error(y_test, y_pred_lr)\n",
    "real_error_lr = np.sqrt(MSE_lr)\n",
    "\n",
    "print(\"MSE for linear regression is:\", MSE_lr)\n",
    "print(\"Error for linear regression is:\" , real_error_lr)\n",
    "print(\"R2 score for RandomForestRegressor is:\" , r2_score(y_test, y_pred_lr))"
   ]
  },
  {
   "cell_type": "markdown",
   "metadata": {
    "_cell_guid": "809af412-a612-4984-b87f-247ccb44ad69",
    "_uuid": "c2522833-709b-4ab7-8fcd-eb33661b2a41"
   },
   "source": [
    "## Kneighbour Regressor"
   ]
  },
  {
   "cell_type": "code",
   "execution_count": 26,
   "metadata": {
    "_cell_guid": "03bc1e5a-2179-4173-8962-97d8f2941472",
    "_uuid": "5db22b85-2865-4c32-b4c9-c939570e5016",
    "execution": {
     "iopub.execute_input": "2023-10-20T23:29:46.902241Z",
     "iopub.status.busy": "2023-10-20T23:29:46.901194Z",
     "iopub.status.idle": "2023-10-20T23:41:26.953348Z",
     "shell.execute_reply": "2023-10-20T23:41:26.951899Z",
     "shell.execute_reply.started": "2023-10-20T23:29:46.902198Z"
    },
    "jupyter": {
     "outputs_hidden": false
    }
   },
   "outputs": [],
   "source": [
    "#create a kneighbours regressor\n",
    "knn_model = KNeighborsRegressor(n_neighbors=5)\n",
    "\n",
    "#fit the model on train set\n",
    "knn_model.fit(X_train, y_train)\n",
    "\n",
    "#get the predictions on test set\n",
    "y_pred_knn = knn_model.predict(X_test)"
   ]
  },
  {
   "cell_type": "code",
   "execution_count": 27,
   "metadata": {
    "_cell_guid": "c2ef5e95-82d0-4354-b683-f859e4ab64f6",
    "_uuid": "d94d594c-8d56-4492-b441-d8ea3f9db166",
    "execution": {
     "iopub.execute_input": "2023-10-20T23:43:53.378538Z",
     "iopub.status.busy": "2023-10-20T23:43:53.378153Z",
     "iopub.status.idle": "2023-10-20T23:43:53.388432Z",
     "shell.execute_reply": "2023-10-20T23:43:53.387196Z",
     "shell.execute_reply.started": "2023-10-20T23:43:53.378510Z"
    },
    "jupyter": {
     "outputs_hidden": false
    }
   },
   "outputs": [
    {
     "name": "stdout",
     "output_type": "stream",
     "text": [
      "MSE for Kneighbours regression is: 12171.154435054068\n",
      "Error for Kneighbours regression is: 12171.154435054068\n",
      "R2 score for Kneighbours is: 0.7126244531042172\n"
     ]
    }
   ],
   "source": [
    "#evaluate knn model\n",
    "MSE_knn = np.sqrt(mean_squared_error(y_test, y_pred_knn))\n",
    "real_error_knn = np.sqrt(mean_squared_error(y_test, y_pred_knn)) \n",
    "\n",
    "print(\"MSE for Kneighbours regression is:\", MSE_knn)\n",
    "print(\"Error for Kneighbours regression is:\", real_error_knn)\n",
    "print(\"R2 score for Kneighbours is:\" , r2_score(y_test, y_pred_knn))"
   ]
  },
  {
   "cell_type": "markdown",
   "metadata": {
    "_cell_guid": "5ddcff3a-e076-4c7f-95cf-cddd36ed3097",
    "_uuid": "30a056b8-43c2-4880-b16e-2fe9bedd0860",
    "jupyter": {
     "outputs_hidden": false
    }
   },
   "source": [
    "# Decision Tree Regressor"
   ]
  },
  {
   "cell_type": "code",
   "execution_count": 28,
   "metadata": {},
   "outputs": [],
   "source": [
    "#create a Decision Tree regressor\n",
    "\n",
    "dec_tree_model = DecisionTreeRegressor(random_state = 0)\n",
    "dec_tree_model.fit(X_train, y_train)\n",
    "y_pred_dt = dec_tree_model.predict (X_test)"
   ]
  },
  {
   "cell_type": "code",
   "execution_count": 29,
   "metadata": {},
   "outputs": [
    {
     "name": "stdout",
     "output_type": "stream",
     "text": [
      "MSE for Decision Tree regression is: 12489048.83805543\n",
      "Real error for Decision Tree regression is: 3533.984838402031\n",
      "R2 score for Decision Tree regression is: 0.9757721080269373\n"
     ]
    }
   ],
   "source": [
    "#evaluate dt model\n",
    "\n",
    "MSE_dt = mean_squared_error(y_test, y_pred_dt)\n",
    "real_error_dt = np.sqrt(mean_squared_error(y_test, y_pred_dt)) \n",
    "\n",
    "print(\"MSE for Decision Tree regression is:\", MSE_dt)\n",
    "print(\"Real error for Decision Tree regression is:\", real_error_dt)\n",
    "print(\"R2 score for Decision Tree regression is:\" , r2_score(y_test, y_pred_dt))"
   ]
  },
  {
   "cell_type": "markdown",
   "metadata": {},
   "source": [
    "### Grid search"
   ]
  },
  {
   "cell_type": "code",
   "execution_count": 30,
   "metadata": {},
   "outputs": [
    {
     "data": {
      "text/html": [
       "<style>#sk-container-id-2 {color: black;}#sk-container-id-2 pre{padding: 0;}#sk-container-id-2 div.sk-toggleable {background-color: white;}#sk-container-id-2 label.sk-toggleable__label {cursor: pointer;display: block;width: 100%;margin-bottom: 0;padding: 0.3em;box-sizing: border-box;text-align: center;}#sk-container-id-2 label.sk-toggleable__label-arrow:before {content: \"▸\";float: left;margin-right: 0.25em;color: #696969;}#sk-container-id-2 label.sk-toggleable__label-arrow:hover:before {color: black;}#sk-container-id-2 div.sk-estimator:hover label.sk-toggleable__label-arrow:before {color: black;}#sk-container-id-2 div.sk-toggleable__content {max-height: 0;max-width: 0;overflow: hidden;text-align: left;background-color: #f0f8ff;}#sk-container-id-2 div.sk-toggleable__content pre {margin: 0.2em;color: black;border-radius: 0.25em;background-color: #f0f8ff;}#sk-container-id-2 input.sk-toggleable__control:checked~div.sk-toggleable__content {max-height: 200px;max-width: 100%;overflow: auto;}#sk-container-id-2 input.sk-toggleable__control:checked~label.sk-toggleable__label-arrow:before {content: \"▾\";}#sk-container-id-2 div.sk-estimator input.sk-toggleable__control:checked~label.sk-toggleable__label {background-color: #d4ebff;}#sk-container-id-2 div.sk-label input.sk-toggleable__control:checked~label.sk-toggleable__label {background-color: #d4ebff;}#sk-container-id-2 input.sk-hidden--visually {border: 0;clip: rect(1px 1px 1px 1px);clip: rect(1px, 1px, 1px, 1px);height: 1px;margin: -1px;overflow: hidden;padding: 0;position: absolute;width: 1px;}#sk-container-id-2 div.sk-estimator {font-family: monospace;background-color: #f0f8ff;border: 1px dotted black;border-radius: 0.25em;box-sizing: border-box;margin-bottom: 0.5em;}#sk-container-id-2 div.sk-estimator:hover {background-color: #d4ebff;}#sk-container-id-2 div.sk-parallel-item::after {content: \"\";width: 100%;border-bottom: 1px solid gray;flex-grow: 1;}#sk-container-id-2 div.sk-label:hover label.sk-toggleable__label {background-color: #d4ebff;}#sk-container-id-2 div.sk-serial::before {content: \"\";position: absolute;border-left: 1px solid gray;box-sizing: border-box;top: 0;bottom: 0;left: 50%;z-index: 0;}#sk-container-id-2 div.sk-serial {display: flex;flex-direction: column;align-items: center;background-color: white;padding-right: 0.2em;padding-left: 0.2em;position: relative;}#sk-container-id-2 div.sk-item {position: relative;z-index: 1;}#sk-container-id-2 div.sk-parallel {display: flex;align-items: stretch;justify-content: center;background-color: white;position: relative;}#sk-container-id-2 div.sk-item::before, #sk-container-id-2 div.sk-parallel-item::before {content: \"\";position: absolute;border-left: 1px solid gray;box-sizing: border-box;top: 0;bottom: 0;left: 50%;z-index: -1;}#sk-container-id-2 div.sk-parallel-item {display: flex;flex-direction: column;z-index: 1;position: relative;background-color: white;}#sk-container-id-2 div.sk-parallel-item:first-child::after {align-self: flex-end;width: 50%;}#sk-container-id-2 div.sk-parallel-item:last-child::after {align-self: flex-start;width: 50%;}#sk-container-id-2 div.sk-parallel-item:only-child::after {width: 0;}#sk-container-id-2 div.sk-dashed-wrapped {border: 1px dashed gray;margin: 0 0.4em 0.5em 0.4em;box-sizing: border-box;padding-bottom: 0.4em;background-color: white;}#sk-container-id-2 div.sk-label label {font-family: monospace;font-weight: bold;display: inline-block;line-height: 1.2em;}#sk-container-id-2 div.sk-label-container {text-align: center;}#sk-container-id-2 div.sk-container {/* jupyter's `normalize.less` sets `[hidden] { display: none; }` but bootstrap.min.css set `[hidden] { display: none !important; }` so we also need the `!important` here to be able to override the default hidden behavior on the sphinx rendered scikit-learn.org. See: https://github.com/scikit-learn/scikit-learn/issues/21755 */display: inline-block !important;position: relative;}#sk-container-id-2 div.sk-text-repr-fallback {display: none;}</style><div id=\"sk-container-id-2\" class=\"sk-top-container\"><div class=\"sk-text-repr-fallback\"><pre>GridSearchCV(estimator=RandomForestRegressor(random_state=0),\n",
       "             param_grid={&#x27;max_depth&#x27;: [None, 2, 4, 6, 8, 10, 12]},\n",
       "             scoring=&#x27;neg_mean_squared_error&#x27;)</pre><b>In a Jupyter environment, please rerun this cell to show the HTML representation or trust the notebook. <br />On GitHub, the HTML representation is unable to render, please try loading this page with nbviewer.org.</b></div><div class=\"sk-container\" hidden><div class=\"sk-item sk-dashed-wrapped\"><div class=\"sk-label-container\"><div class=\"sk-label sk-toggleable\"><input class=\"sk-toggleable__control sk-hidden--visually\" id=\"sk-estimator-id-2\" type=\"checkbox\" ><label for=\"sk-estimator-id-2\" class=\"sk-toggleable__label sk-toggleable__label-arrow\">GridSearchCV</label><div class=\"sk-toggleable__content\"><pre>GridSearchCV(estimator=RandomForestRegressor(random_state=0),\n",
       "             param_grid={&#x27;max_depth&#x27;: [None, 2, 4, 6, 8, 10, 12]},\n",
       "             scoring=&#x27;neg_mean_squared_error&#x27;)</pre></div></div></div><div class=\"sk-parallel\"><div class=\"sk-parallel-item\"><div class=\"sk-item\"><div class=\"sk-label-container\"><div class=\"sk-label sk-toggleable\"><input class=\"sk-toggleable__control sk-hidden--visually\" id=\"sk-estimator-id-3\" type=\"checkbox\" ><label for=\"sk-estimator-id-3\" class=\"sk-toggleable__label sk-toggleable__label-arrow\">estimator: RandomForestRegressor</label><div class=\"sk-toggleable__content\"><pre>RandomForestRegressor(random_state=0)</pre></div></div></div><div class=\"sk-serial\"><div class=\"sk-item\"><div class=\"sk-estimator sk-toggleable\"><input class=\"sk-toggleable__control sk-hidden--visually\" id=\"sk-estimator-id-4\" type=\"checkbox\" ><label for=\"sk-estimator-id-4\" class=\"sk-toggleable__label sk-toggleable__label-arrow\">RandomForestRegressor</label><div class=\"sk-toggleable__content\"><pre>RandomForestRegressor(random_state=0)</pre></div></div></div></div></div></div></div></div></div></div>"
      ],
      "text/plain": [
       "GridSearchCV(estimator=RandomForestRegressor(random_state=0),\n",
       "             param_grid={'max_depth': [None, 2, 4, 6, 8, 10, 12]},\n",
       "             scoring='neg_mean_squared_error')"
      ]
     },
     "execution_count": 30,
     "metadata": {},
     "output_type": "execute_result"
    }
   ],
   "source": [
    "from sklearn.model_selection import GridSearchCV\n",
    "\n",
    "max_depth = [None, 2,4,6,8,10,12]\n",
    "parameters = {'max_depth': max_depth}\n",
    "regressor = RandomForestRegressor(random_state = 0)\n",
    "gs = GridSearchCV( regressor, parameters, scoring = 'neg_mean_squared_error')\n",
    "gs.fit(X_train, y_train)"
   ]
  },
  {
   "cell_type": "code",
   "execution_count": 31,
   "metadata": {},
   "outputs": [
    {
     "name": "stdout",
     "output_type": "stream",
     "text": [
      "MSE for regressor is: 12489048.83805543\n",
      "Real error for regressor is: 2788.938104547384\n",
      "R2 score for regressor is: 0.9757721080269373\n"
     ]
    }
   ],
   "source": [
    "regressor = gs.best_estimator_\n",
    "\n",
    "regressor.fit(X_train, y_train)\n",
    "y_pred_reg = regressor.predict(X_test)\n",
    "\n",
    "MSE_reg = mean_squared_error(y_test, y_pred_reg)\n",
    "real_error_dt = np.sqrt(mean_squared_error(y_test, y_pred_reg)) \n",
    "\n",
    "print(\"MSE for regressor is:\", MSE_dt)\n",
    "print(\"Real error for regressor is:\", real_error_dt)\n",
    "print(\"R2 score for regressor is:\" , r2_score(y_test, y_pred_dt))"
   ]
  },
  {
   "cell_type": "markdown",
   "metadata": {},
   "source": [
    "## Test a prediction"
   ]
  },
  {
   "cell_type": "code",
   "execution_count": 32,
   "metadata": {},
   "outputs": [
    {
     "data": {
      "text/plain": [
       "array([['SpiceJet', 'Delhi', 'Early_Morning', 'zero', 'Morning',\n",
       "        'Mumbai', 'Economy', '2.33', '30']], dtype='<U32')"
      ]
     },
     "execution_count": 32,
     "metadata": {},
     "output_type": "execute_result"
    }
   ],
   "source": [
    "X = np.array([['SpiceJet', 'Delhi', 'Early_Morning', 'zero', 'Morning', 'Mumbai', 'Economy', 2.33, 30]])\n",
    "X"
   ]
  },
  {
   "cell_type": "code",
   "execution_count": 33,
   "metadata": {},
   "outputs": [
    {
     "data": {
      "text/plain": [
       "array([[ 4.  ,  2.  ,  1.  ,  2.  ,  4.  ,  5.  ,  1.  ,  2.33, 30.  ]])"
      ]
     },
     "execution_count": 33,
     "metadata": {},
     "output_type": "execute_result"
    }
   ],
   "source": [
    "X[:, 0] = le_airline.transform(X[:, 0])\n",
    "X[:, 1] = le_source_city.transform(X[:, 1])\n",
    "X[:, 2] = le_departure_time.transform(X[:, 2])\n",
    "X[:, 3] = le_stops.transform(X[:, 3])\n",
    "X[:, 4] = le_arrival_time.transform(X[:, 4])\n",
    "X[:, 5] = le_destination_city.transform(X[:, 5])\n",
    "X[:, 6] = le_class.transform(X[:, 6])\n",
    "X= X.astype(float)\n",
    "X"
   ]
  },
  {
   "cell_type": "code",
   "execution_count": 34,
   "metadata": {},
   "outputs": [
    {
     "name": "stderr",
     "output_type": "stream",
     "text": [
      "C:\\Users\\ilout\\anaconda3\\envs\\tf\\lib\\site-packages\\sklearn\\base.py:465: UserWarning: X does not have valid feature names, but RandomForestRegressor was fitted with feature names\n",
      "  warnings.warn(\n"
     ]
    },
    {
     "data": {
      "text/plain": [
       "array([2487.35])"
      ]
     },
     "execution_count": 34,
     "metadata": {},
     "output_type": "execute_result"
    }
   ],
   "source": [
    "y_pred= regressor.predict(X)\n",
    "y_pred"
   ]
  },
  {
   "cell_type": "markdown",
   "metadata": {},
   "source": [
    "## Saving the best model"
   ]
  },
  {
   "cell_type": "code",
   "execution_count": 35,
   "metadata": {},
   "outputs": [],
   "source": [
    "import pickle"
   ]
  },
  {
   "cell_type": "code",
   "execution_count": 36,
   "metadata": {},
   "outputs": [],
   "source": [
    "data = {'model': regressor, 'airline': le_airline, 'source_city': le_source_city, 'departure_time': le_departure_time,\n",
    "       'stops': le_stops, 'arrival_time': le_arrival_time, 'destination_city': le_destination_city, 'Class': le_class  }\n",
    "with open('saved_steps.pkl', 'wb') as file:\n",
    "    pickle.dump(data,file)"
   ]
  },
  {
   "cell_type": "code",
   "execution_count": 37,
   "metadata": {},
   "outputs": [],
   "source": [
    "with open ('saved_steps.pkl', 'rb') as file:\n",
    "    data = pickle.load(file)\n",
    "    \n",
    "regressor_loaded = data['model']\n",
    "le_airline = data['airline']\n",
    "le_source_city = data['source_city']\n",
    "le_departure_time = data['departure_time']\n",
    "le_stops = data['stops']\n",
    "le_arival_time = data['arrival_time']\n",
    "le_destination_city = data['destination_city']\n",
    "le_class = data['Class']"
   ]
  },
  {
   "cell_type": "code",
   "execution_count": 38,
   "metadata": {},
   "outputs": [
    {
     "name": "stderr",
     "output_type": "stream",
     "text": [
      "C:\\Users\\ilout\\anaconda3\\envs\\tf\\lib\\site-packages\\sklearn\\base.py:465: UserWarning: X does not have valid feature names, but RandomForestRegressor was fitted with feature names\n",
      "  warnings.warn(\n"
     ]
    },
    {
     "data": {
      "text/plain": [
       "array([2487.35])"
      ]
     },
     "execution_count": 38,
     "metadata": {},
     "output_type": "execute_result"
    }
   ],
   "source": [
    "y_pred = regressor_loaded.predict(X)\n",
    "y_pred"
   ]
  }
 ],
 "metadata": {
  "kernelspec": {
   "display_name": "Python 3 (ipykernel)",
   "language": "python",
   "name": "python3"
  },
  "language_info": {
   "codemirror_mode": {
    "name": "ipython",
    "version": 3
   },
   "file_extension": ".py",
   "mimetype": "text/x-python",
   "name": "python",
   "nbconvert_exporter": "python",
   "pygments_lexer": "ipython3",
   "version": "3.10.13"
  }
 },
 "nbformat": 4,
 "nbformat_minor": 4
}
